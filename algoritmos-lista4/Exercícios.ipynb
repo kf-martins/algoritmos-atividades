{
 "cells": [
  {
   "cell_type": "markdown",
   "id": "1dd54c14",
   "metadata": {},
   "source": [
    "### Exercício 1\n"
   ]
  },
  {
   "cell_type": "code",
   "execution_count": 2,
   "id": "84c31695",
   "metadata": {},
   "outputs": [
    {
     "name": "stdout",
     "output_type": "stream",
     "text": [
      "Tangamandapio\n",
      "oipadnamagnaT\n"
     ]
    }
   ],
   "source": [
    "s =  input()\n",
    "print(s)\n",
    "print(s[::-1])"
   ]
  },
  {
   "cell_type": "markdown",
   "id": "ebb104f9",
   "metadata": {},
   "source": [
    "### Exercício 2"
   ]
  },
  {
   "cell_type": "code",
   "execution_count": 13,
   "id": "2452acac",
   "metadata": {},
   "outputs": [
    {
     "name": "stdout",
     "output_type": "stream",
     "text": [
      "Outofthenightthatcoversme\n"
     ]
    }
   ],
   "source": [
    "s = input()\n",
    "print(s.replace(' ', ''))"
   ]
  },
  {
   "cell_type": "markdown",
   "id": "abc874b1",
   "metadata": {},
   "source": [
    "### Exercício 3"
   ]
  },
  {
   "cell_type": "code",
   "execution_count": 20,
   "id": "9edc84c1",
   "metadata": {},
   "outputs": [
    {
     "name": "stdout",
     "output_type": "stream",
     "text": [
      "Out of the night that covers me\n"
     ]
    }
   ],
   "source": [
    "s = input().split()\n",
    "print(' '.join(s))\n"
   ]
  },
  {
   "cell_type": "markdown",
   "id": "e5b38b6c",
   "metadata": {},
   "source": [
    "### Exercício 4\n"
   ]
  },
  {
   "cell_type": "code",
   "execution_count": 26,
   "id": "814efa73",
   "metadata": {},
   "outputs": [
    {
     "name": "stdout",
     "output_type": "stream",
     "text": [
      "ESI\n"
     ]
    }
   ],
   "source": [
    "s1, s2 = input(), input()\n",
    "for c in s1:\n",
    "    if c in s2:\n",
    "        s2 = s2.replace(c, '')\n",
    "\n",
    "print(s2)"
   ]
  },
  {
   "cell_type": "markdown",
   "id": "1d9b34e2",
   "metadata": {},
   "source": [
    "### Exercício 5\n"
   ]
  },
  {
   "cell_type": "code",
   "execution_count": 51,
   "id": "8fdd99ab",
   "metadata": {},
   "outputs": [
    {
     "name": "stdout",
     "output_type": "stream",
     "text": [
      "moda é substring de moradia\n"
     ]
    }
   ],
   "source": [
    "s1, s2 = input(), input()\n",
    "subs = 0\n",
    "for c2 in s2:\n",
    "    if subs < len(s1) and s1[subs] == c2:\n",
    "            subs+=1\n",
    "if subs == len(s1):\n",
    "    print(f'{s1} é substring de {s2}')\n",
    "else:\n",
    "    print(f'{s1} não é substring de {s2}')  \n"
   ]
  },
  {
   "cell_type": "markdown",
   "id": "62fd5c44",
   "metadata": {},
   "source": [
    "### Exercício 6\n"
   ]
  },
  {
   "cell_type": "code",
   "execution_count": null,
   "id": "f8ef66f5",
   "metadata": {},
   "outputs": [
    {
     "name": "stdout",
     "output_type": "stream",
     "text": [
      "Não são anagramas!\n"
     ]
    }
   ],
   "source": [
    "def isAnagram(s1, s2) -> bool:\n",
    "    if len(s2) != len(s1):\n",
    "        return False\n",
    "    s1_count = {}\n",
    "    s2_count = {}\n",
    "    for c1 in s1:\n",
    "        s1_count[c1] = s1_count.get(c1, 0)+1\n",
    "    for c2 in s2:\n",
    "        s2_count[c2] = s2_count.get(c2, 0)+1\n",
    "    return s1_count == s2_count\n",
    "\n",
    "s1, s2 = input(), input()\n",
    "print('Anagramas!' if isAnagram(s1, s2) else 'Não são anagramas!')"
   ]
  },
  {
   "cell_type": "markdown",
   "id": "a5da35f6",
   "metadata": {},
   "source": [
    "### Exercício 7\n",
    "\n",
    "a) Determine quais são as variáveis locais e globais deste programa. Para cada variável local \n",
    "identifique a que função ela pertence.\n",
    "- A variável _j_ é global \n",
    "- função *main()*:\n",
    "    - variável *a* é local na função *main*\n",
    "    - variável *i* é local no *for* dentro do *main*\n",
    "    - variável *j* é local no *for* que está dentro de outro *for* em *main* .\n",
    "- função *fun1(a, b)*:\n",
    "    - variáveis *a* e *b* são locais dentro de *fun1*\n",
    "    - variável *p* é local em *fun1*\n",
    "    - variável *i* é local no *for* dentro de *fun1*  \n",
    "\n",
    "b) Mostre o que será impresso na tela do computador quando for executado este pro- \n",
    "grama.\n",
    "- fun1(a, b):\n",
    "    - Múltiplica 1 por *a*, *b* vezes e soma com *j* que é 1.\n",
    "- main():\n",
    "    - a = 9, se *a* é par, a = 2, caso contrário, a = 3. Logo *a* = 3.\n",
    "    - print(fun1(2, 4)) - 17 - (1*2*2*2*2 + 1)\n",
    "    - for i in range 3 e for j in range 3:\n",
    "        - print(fun1(a, i+j)):\n",
    "            - a sempre é 3. j na fun1 sempre é 1.\n",
    "            - imprimir: multiplicação de 1 por 3 *i+j* vezes. \n",
    "                - 0 + 0 = 0 -> não será multiplicado (range(0) não roda -> p+j - 1+1 = 2\n",
    "                - 0 + 1 = 1 -> 1 -> 1*3 + 1 = 4\n",
    "                - 0 + 2 = 2 -> 1*3*3 + 1 = 10\n",
    "                - 1 + 0 = 1 -> 4\n",
    "                - 1 + 1 = 2 -> 10\n",
    "                - 1 + 2 = 3 -> 1*3*3*3 + 1 = 28\n",
    "                - 2 + 0 = 2 -> 10\n",
    "                - 2 + 1 = 3 -> 28\n",
    "                - 2 + 2 = 4 -> 1*3*3*3*3 + 1 = 82\n",
    "- Saíde esperada:\n",
    "    ```plaintext\n",
    "    17\n",
    "    2\n",
    "    4\n",
    "    10\n",
    "    4\n",
    "    10\n",
    "    28\n",
    "    10\n",
    "    28\n",
    "    82\n",
    "    ```"
   ]
  },
  {
   "cell_type": "markdown",
   "id": "8e6535fb",
   "metadata": {},
   "source": [
    "### Exercício 8\n"
   ]
  },
  {
   "cell_type": "code",
   "execution_count": 6,
   "id": "08962175",
   "metadata": {},
   "outputs": [
    {
     "name": "stdout",
     "output_type": "stream",
     "text": [
      "True\n"
     ]
    }
   ],
   "source": [
    "def amigos(a, b) -> bool:\n",
    "    a_divisores = [i for i in range(1, a//2 + 1) if a % i == 0] \n",
    "    b_divisores = [i for i in range(1, b//2 + 1) if b % i == 0]\n",
    "    return (sum(a_divisores) == b and sum(b_divisores) == a)\n",
    "\n",
    "print(amigos(220, 284))"
   ]
  },
  {
   "cell_type": "markdown",
   "id": "fc377de6",
   "metadata": {},
   "source": [
    "### Exercício 9\n"
   ]
  },
  {
   "cell_type": "code",
   "execution_count": 13,
   "id": "ba2022e1",
   "metadata": {},
   "outputs": [
    {
     "name": "stdout",
     "output_type": "stream",
     "text": [
      "3\n"
     ]
    }
   ],
   "source": [
    "def menor_base_log(n: int) -> int:\n",
    "    for b in range(2, n):\n",
    "        k = 2\n",
    "        while b**k <= n:\n",
    "            if b**k == n:\n",
    "                return b\n",
    "            k += 1\n",
    "    return n\n",
    "\n",
    "print(menor_base_log(27))"
   ]
  },
  {
   "cell_type": "markdown",
   "id": "7b4a3417",
   "metadata": {},
   "source": [
    "### Exercício 10\n"
   ]
  },
  {
   "cell_type": "markdown",
   "id": "d4c33fb5",
   "metadata": {},
   "source": [
    "### a)\n"
   ]
  },
  {
   "cell_type": "code",
   "execution_count": 68,
   "id": "4927e954",
   "metadata": {},
   "outputs": [
    {
     "name": "stdout",
     "output_type": "stream",
     "text": [
      "True\n"
     ]
    }
   ],
   "source": [
    "def teste(a:int, b:int, n: int) -> bool:\n",
    "    return (a**2 + b**2) == n\n",
    "\n",
    "print(teste(2,3,13))"
   ]
  },
  {
   "cell_type": "markdown",
   "id": "10f7b645",
   "metadata": {},
   "source": [
    "### b)"
   ]
  },
  {
   "cell_type": "code",
   "execution_count": 73,
   "id": "c7fa2fc6",
   "metadata": {},
   "outputs": [
    {
     "name": "stdout",
     "output_type": "stream",
     "text": [
      "True\n"
     ]
    }
   ],
   "source": [
    "# a² + b² = n\n",
    "# b² = n - a²\n",
    "# a² não pode ser maior que n -> a² <= raiz de n\n",
    "# raiz de b² deve ser um inteiro -> o inteiro da raiz de b², ao quadrado, é igual a b²\n",
    "def pitagorico(n: int) -> bool:\n",
    "    for a in range(1, int(n**(1/2)+1)):\n",
    "        b_2 = n - a**2\n",
    "        b = int(b_2**(1/2))\n",
    "        # print(a, b)\n",
    "        # se b tiver que ser maior que 0, adicionar and b > 0\n",
    "        if teste(a, b, n):\n",
    "            return True\n",
    "    return False\n",
    "\n",
    "print(pitagorico(100))\n"
   ]
  },
  {
   "cell_type": "markdown",
   "id": "a9a52381",
   "metadata": {},
   "source": [
    "### Exercício 11\n"
   ]
  },
  {
   "cell_type": "code",
   "execution_count": 86,
   "id": "be3d7844",
   "metadata": {},
   "outputs": [
    {
     "name": "stdout",
     "output_type": "stream",
     "text": [
      "7.5\n"
     ]
    }
   ],
   "source": [
    "def media(v: list[float]) -> float:\n",
    "    soma = 0\n",
    "    [soma := soma+x for x in v] # operador walrus, utiliza o valor atribuido na mesma expressão\n",
    "    return soma/len(v)\n",
    "    # return sum(v)/len(v)\n",
    "print(media([10, 5]))\n"
   ]
  },
  {
   "cell_type": "markdown",
   "id": "511f7420",
   "metadata": {},
   "source": [
    "### Exercício 12\n"
   ]
  },
  {
   "cell_type": "code",
   "execution_count": 96,
   "id": "b91cbe93",
   "metadata": {},
   "outputs": [
    {
     "data": {
      "text/plain": [
       "3.5355339059327378"
      ]
     },
     "execution_count": 96,
     "metadata": {},
     "output_type": "execute_result"
    }
   ],
   "source": [
    "def desvio_padrao(v: list[float]) -> float:\n",
    "    x2 = 0\n",
    "    xi = 0\n",
    "    n = len(v)\n",
    "    for i in range(n):\n",
    "        x2 += v[i]**2\n",
    "        xi += v[i]\n",
    "    return ((x2 - ((xi**2)/n))/(n-1))**(1/2)\n",
    "\n",
    "desvio_padrao([10, 5])"
   ]
  },
  {
   "cell_type": "markdown",
   "id": "0a0535c7",
   "metadata": {},
   "source": [
    "### Exercício 13\n"
   ]
  },
  {
   "cell_type": "code",
   "execution_count": 136,
   "id": "cba10fa9",
   "metadata": {},
   "outputs": [
    {
     "data": {
      "text/plain": [
       "(7, 13)"
      ]
     },
     "execution_count": 136,
     "metadata": {},
     "output_type": "execute_result"
    }
   ],
   "source": [
    "def primo(n: int) -> bool:\n",
    "    if n <= 1:\n",
    "        return False\n",
    "    # return all([n % i != 0 for i in range(2, 1+int(n**(1/2)))]) python demais slc\n",
    "    for i in range(2, int(n**(1/2))+1):\n",
    "        if not n % i:\n",
    "            return False \n",
    "    return True\n",
    "\n",
    "def sanduiche_primo(n: int) -> tuple[int, int | None]:\n",
    "    # n += 1 if primo(n) else 0\n",
    "    p2 = n+1\n",
    "    while not primo(p2):\n",
    "        p2+=1\n",
    "    p1 = n if n == 2 else n-1 # Caso seja 2, o menor número primo, o menor número primo retornado sera o próprio 2.\n",
    "    while not primo(p1):\n",
    "        p1-=1\n",
    "    return (p1, p2)\n",
    "\n",
    "sanduiche_primo(11)"
   ]
  },
  {
   "cell_type": "markdown",
   "id": "9c4e32ae",
   "metadata": {},
   "source": [
    "### Exercício 14\n"
   ]
  },
  {
   "cell_type": "code",
   "execution_count": 137,
   "id": "68a013ab",
   "metadata": {},
   "outputs": [
    {
     "data": {
      "text/plain": [
       "(3, 2)"
      ]
     },
     "execution_count": 137,
     "metadata": {},
     "output_type": "execute_result"
    }
   ],
   "source": [
    "def frequencias(v: list[int]) -> tuple[int, int]:\n",
    "    freq = {}\n",
    "    for i in v:\n",
    "        freq[i] = freq.get(i, 0) + 1 \n",
    "    menorf = min(freq.items(), key=lambda items: items[1])[0]\n",
    "    maiorf = max(freq.items(), key=lambda items: items[1])[0]\n",
    "    return (menorf, maiorf)\n",
    "\n",
    "frequencias([1,1,2,2,2,2,2,3,4,4]) # 3 e 2"
   ]
  },
  {
   "cell_type": "markdown",
   "id": "2da1dec2",
   "metadata": {},
   "source": [
    "### Exercício 15\n"
   ]
  },
  {
   "cell_type": "code",
   "execution_count": 176,
   "id": "a88242e8",
   "metadata": {},
   "outputs": [],
   "source": [
    "def verifica1(mat: list[list[int]]) -> list[bool]:\n",
    "    n = len(mat)\n",
    "    resposta = []\n",
    "    for i in range(n):\n",
    "        lin = mat[i]\n",
    "        col = [mat[j][i] for j in range(n)]\n",
    "        # print(lin, col)\n",
    "        resposta.append((1 not in lin) and (1 in col))\n",
    "    return resposta"
   ]
  },
  {
   "cell_type": "code",
   "execution_count": 200,
   "id": "2bf025b6",
   "metadata": {},
   "outputs": [],
   "source": [
    "def verifica2(mat: list[list[int]]) -> list[bool]:\n",
    "    n = len(mat)\n",
    "    resposta = []\n",
    "    for i in range(n):\n",
    "        lin = mat[i]\n",
    "        col = [mat[j][i] for j in range(n)]\n",
    "        # print(lin, col)\n",
    "        resposta.append((1 in lin) and (1 not in col))\n",
    "    return resposta"
   ]
  },
  {
   "cell_type": "code",
   "execution_count": 203,
   "id": "a7392ca9",
   "metadata": {},
   "outputs": [],
   "source": [
    "def verifica3(mat: list[list[int]]) -> list[bool]:\n",
    "    n = len(mat)\n",
    "    resposta = []\n",
    "    for i in range(n):\n",
    "        lin = mat[i]\n",
    "        col = [mat[j][i] for j in range(n)]\n",
    "        # print(lin, col)\n",
    "        resposta.append((1 not in lin) and (1 not in col))\n",
    "    return resposta"
   ]
  },
  {
   "cell_type": "code",
   "execution_count": 204,
   "id": "79714284",
   "metadata": {},
   "outputs": [
    {
     "name": "stdout",
     "output_type": "stream",
     "text": [
      "[False, True, False]\n",
      "[False, False, False]\n",
      "[False, False, False]\n"
     ]
    }
   ],
   "source": [
    "cidades = [\n",
    "    [0, 1, 1],\n",
    "    [0, 0, 0],\n",
    "    [1, 0, 0]\n",
    "]\n",
    "\n",
    "print(verifica1(cidades))\n",
    "print(verifica2(cidades))\n",
    "print(verifica3(cidades))"
   ]
  },
  {
   "cell_type": "markdown",
   "id": "a8c1b235",
   "metadata": {},
   "source": [
    "### Exercício 16\n"
   ]
  },
  {
   "cell_type": "code",
   "execution_count": 211,
   "id": "35a8af2e",
   "metadata": {},
   "outputs": [
    {
     "name": "stdout",
     "output_type": "stream",
     "text": [
      "True\n",
      "False\n"
     ]
    }
   ],
   "source": [
    "def solucao(mat: list[list[int]]) -> bool:\n",
    "    n = len(mat) \n",
    "    \n",
    "    for i in range(n):\n",
    "        lin = mat[i]\n",
    "        col = [mat[j][i] for j in range(n)]\n",
    "\n",
    "        if len(lin) != len(set(lin)):\n",
    "            return False\n",
    "        if len(col) != len(set(col)):\n",
    "            return False\n",
    "        \n",
    "    for i in range(0, 9, 3):\n",
    "        for j in range(0, 9, 3):\n",
    "            quadrado = [k for lin in mat[i:i+3] for k in lin[j:j+3]]\n",
    "            if len(quadrado) != len(set(quadrado)):\n",
    "                return False\n",
    "    return True\n",
    "     \n",
    "sudoku = [\n",
    "    [4, 2, 6, 5, 7, 1, 3, 9, 8],\n",
    "    [8, 5, 7, 2, 9, 3, 1, 4, 6],\n",
    "    [1, 3, 9, 4, 6, 8, 2, 7, 5],\n",
    "    [9, 7, 1, 3, 8, 5, 6, 2, 4],\n",
    "    [5, 4, 3, 7, 2, 6, 8, 1, 9],\n",
    "    [6, 8, 2, 1, 4, 9, 7, 5, 3],\n",
    "    [7, 9, 4, 6, 3, 2, 5, 8, 1],\n",
    "    [2, 6, 5, 8, 1, 4, 9, 3, 7],\n",
    "    [3, 1, 8, 9, 5, 7, 4, 6, 2]\n",
    "]\n",
    "\n",
    "sudokuErrado = [\n",
    "    [4, 2, 6, 5, 7, 1, 3, 9, 8],\n",
    "    [8, 5, 7, 2, 9, 3, 1, 4, 6],\n",
    "    [1, 3, 9, 4, 6, 8, 2, 7, 5],\n",
    "    [9, 7, 1, 3, 8, 5, 6, 2, 4],\n",
    "    [5, 4, 3, 7, 2, 6, 8, 1, 9],\n",
    "    [6, 8, 2, 1, 4, 9, 7, 5, 3],\n",
    "    [7, 9, 4, 6, 3, 2, 5, 8, 1],\n",
    "    [2, 5, 6, 8, 1, 4, 9, 3, 7],\n",
    "    [3, 1, 8, 9, 5, 7, 4, 6, 2]   \n",
    "]\n",
    "\n",
    "print(solucao(sudoku))\n",
    "print(solucao(sudokuErrado))"
   ]
  }
 ],
 "metadata": {
  "kernelspec": {
   "display_name": "Python 3",
   "language": "python",
   "name": "python3"
  },
  "language_info": {
   "codemirror_mode": {
    "name": "ipython",
    "version": 3
   },
   "file_extension": ".py",
   "mimetype": "text/x-python",
   "name": "python",
   "nbconvert_exporter": "python",
   "pygments_lexer": "ipython3",
   "version": "3.12.10"
  }
 },
 "nbformat": 4,
 "nbformat_minor": 5
}
