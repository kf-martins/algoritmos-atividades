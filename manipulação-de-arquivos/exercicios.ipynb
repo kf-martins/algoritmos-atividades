{
 "cells": [
  {
   "cell_type": "markdown",
   "id": "ba71985b",
   "metadata": {},
   "source": [
    "## Atividades - Manipulaçãp de Arquivos\n",
    "\n",
    "### Exercício 1"
   ]
  },
  {
   "cell_type": "code",
   "execution_count": 15,
   "id": "7fc9e8e6",
   "metadata": {},
   "outputs": [
    {
     "name": "stdout",
     "output_type": "stream",
     "text": [
      "O arquivo possui 3 linhas.\n"
     ]
    }
   ],
   "source": [
    "with open('linhas.txt', 'r', encoding='utf-8') as file:\n",
    "    print(f'O arquivo possui {len(file.readlines())} linhas.')"
   ]
  },
  {
   "cell_type": "markdown",
   "id": "ed2f7ad5",
   "metadata": {},
   "source": [
    "### Exercício 2"
   ]
  },
  {
   "cell_type": "code",
   "execution_count": 18,
   "id": "a831f3b2",
   "metadata": {},
   "outputs": [
    {
     "name": "stdout",
     "output_type": "stream",
     "text": [
      "O arquivo possui 17 vogais.\n"
     ]
    }
   ],
   "source": [
    "vogais = 'aeiou'\n",
    "v = 0\n",
    "with open('vogais.txt', 'r', encoding='utf-8') as file:\n",
    "    # Este  ́e um exemplo de texto com v ́arias vogais. -> 17 Com os acentos (formatação do PDF separa acento da letra) | 15 sem os acentos\n",
    "    v = sum(1 for c in file.read().lower() if c in vogais)\n",
    "print(f'O arquivo possui {v} vogais.')\n"
   ]
  },
  {
   "cell_type": "markdown",
   "id": "c071d6bd",
   "metadata": {},
   "source": [
    "### Exercício 3"
   ]
  },
  {
   "cell_type": "code",
   "execution_count": 23,
   "id": "04fb5bd2",
   "metadata": {},
   "outputs": [
    {
     "name": "stdout",
     "output_type": "stream",
     "text": [
      "O arquivo possui 18 vogais e 24 consoantes.\n"
     ]
    }
   ],
   "source": [
    "vogais = 'aeiou'\n",
    "v, c = 0, 0\n",
    "\n",
    "with open('vogais_consoantes.txt', 'r', encoding='utf-8') as file:\n",
    "    #Este texto cont ́em tanto vogais quanto consoantes.\n",
    "    txt = file.read().lower()\n",
    "    v = sum(1 for c in txt if c in vogais)\n",
    "    c = sum(1 for con in txt if (con >= 'a' and con <= 'z') and con not in vogais)\n",
    "print(f'O arquivo possui {v} vogais e {c} consoantes.')"
   ]
  },
  {
   "cell_type": "markdown",
   "id": "8b1669e8",
   "metadata": {},
   "source": [
    "### Exercício 4"
   ]
  },
  {
   "cell_type": "code",
   "execution_count": 29,
   "id": "9ae0bce8",
   "metadata": {},
   "outputs": [
    {
     "name": "stdout",
     "output_type": "stream",
     "text": [
      "O arquivo \"carcteres.txt\" possui 2 correspondências do carctere digitado.\n"
     ]
    }
   ],
   "source": [
    "n = 0\n",
    "c = input('Digite um carctere: ')[0].lower()\n",
    "with open('caracteres.txt', 'r', encoding='utf-8') as file:\n",
    "    # n = file.read().lower().count(c)\n",
    "    n = sum(1 for v in file.read().lower() if v == c)\n",
    "\n",
    "print(f'O arquivo \"carcteres.txt\" possui {n} correspondências do carctere digitado.')"
   ]
  },
  {
   "cell_type": "markdown",
   "id": "481fe190",
   "metadata": {},
   "source": [
    "### Exercício 5"
   ]
  },
  {
   "cell_type": "code",
   "execution_count": 32,
   "id": "e8cc4316",
   "metadata": {},
   "outputs": [
    {
     "name": "stdout",
     "output_type": "stream",
     "text": [
      "Contagem de letras do arquivo (Removendo letras com 0 corrspondências) \n",
      "a: 6\n",
      "b: 3\n",
      "c: 1\n",
      "d: 1\n",
      "e: 5\n",
      "f: 1\n",
      "g: 1\n",
      "h: 1\n",
      "i: 1\n",
      "l: 3\n",
      "n: 3\n",
      "o: 4\n",
      "r: 3\n",
      "s: 2\n",
      "t: 2\n",
      "u: 3\n"
     ]
    }
   ],
   "source": [
    "a = dict()\n",
    "with open('alfabeto.txt', 'r', encoding='utf-8') as file:\n",
    "    for c in file.read().lower():\n",
    "        if c.isalpha():\n",
    "            a[c] = a.get(c, 0) + 1\n",
    "print('Contagem de letras do arquivo (Removendo letras com 0 corrspondências) ')\n",
    "for letra in sorted(a.keys()):\n",
    "    print(f\"{letra}: {a[letra]}\")"
   ]
  },
  {
   "cell_type": "markdown",
   "id": "699e46da",
   "metadata": {},
   "source": [
    "### Exercício 6"
   ]
  },
  {
   "cell_type": "code",
   "execution_count": 37,
   "id": "016c0359",
   "metadata": {},
   "outputs": [
    {
     "name": "stdout",
     "output_type": "stream",
     "text": [
      "Salvando no arquivo vogais_subsituidas.txt a string: S*bst*t** *s v*g**s d*st* t*xt*.\n"
     ]
    }
   ],
   "source": [
    "vogais = 'aeiou'\n",
    "with open('substituir_vogais.txt', 'r', encoding='utf-8') as file:\n",
    "    txt = file.read()\n",
    "\n",
    "for v in vogais:\n",
    "    txt = txt.replace(v, '*')\n",
    "    txt = txt.replace(v.upper(), '*')\n",
    "\n",
    "print(f'Salvando no arquivo vogais_subsituidas.txt a string: {txt}')\n",
    "with open('vogais_subsituidas.txt', 'w', encoding='utf-8') as file:\n",
    "    file.write(txt)\n"
   ]
  },
  {
   "cell_type": "markdown",
   "id": "536dcc50",
   "metadata": {},
   "source": [
    "### Exercício 7"
   ]
  },
  {
   "cell_type": "code",
   "execution_count": null,
   "id": "afdcad17",
   "metadata": {},
   "outputs": [],
   "source": [
    "minusc = input(\"Digite o caminho do arquivo das letras minúsculas (coloque o .txt): \")\n",
    "maiusc = input(\"Digite o caminhno para o arquivo criado (coloque o .txt): \")\n",
    "with open(minusc, 'r', encoding='utf-8') as minusc_file, open(maiusc, 'w+', encoding='utf-8') as maiusc_file:\n",
    "    maiusc_file.write(minusc_file.read().upper())\n",
    "    "
   ]
  },
  {
   "cell_type": "markdown",
   "id": "9c3addca",
   "metadata": {},
   "source": [
    "### Exercício 8"
   ]
  },
  {
   "cell_type": "code",
   "execution_count": null,
   "id": "8602bb5a",
   "metadata": {},
   "outputs": [],
   "source": [
    "with open('arquivo1.txt', 'r', encoding='utf-8') as a1, open('arquivo2.txt', 'r', encoding='utf-8') as a2, open('concatenado.txt', 'w', encoding='utf-8') as f:\n",
    "    f.write(a1.read() + '\\n' + a2.read())\n"
   ]
  },
  {
   "cell_type": "markdown",
   "id": "fc6a4fee",
   "metadata": {},
   "source": [
    "### Exercício 9"
   ]
  },
  {
   "cell_type": "code",
   "execution_count": 56,
   "id": "6e776206",
   "metadata": {},
   "outputs": [],
   "source": [
    "maior_pop = 0\n",
    "cidade_mais_populosa = \"\"\n",
    "populacao_mais_populosa = 0\n",
    "\n",
    "with open('cidades.txt', 'r', encoding='utf-8') as file:\n",
    "    for line in file:\n",
    "        nome_cidade, pop_str = line.strip().rsplit(maxsplit=1)\n",
    "        pop = int(pop_str)\n",
    "        if pop > maior_pop:\n",
    "            maior_pop = pop\n",
    "            cidade_mais_populosa = nome_cidade\n",
    "            populacao_mais_populosa = pop\n",
    "\n",
    "with open('maior_cidade.txt', 'w', encoding='utf-8') as file:\n",
    "    file.write(f\"{cidade_mais_populosa} {populacao_mais_populosa}\")\n"
   ]
  },
  {
   "cell_type": "markdown",
   "id": "43c51778",
   "metadata": {},
   "source": [
    "### Exercício 10"
   ]
  },
  {
   "cell_type": "code",
   "execution_count": null,
   "id": "81de67d4",
   "metadata": {},
   "outputs": [
    {
     "name": "stdout",
     "output_type": "stream",
     "text": [
      "A palavra \"palavra\" aparece no arquivo \"palavras.txt\" 2 vezes\n"
     ]
    }
   ],
   "source": [
    "c = 0\n",
    "p = input('Digite uma palvra: ').lower()\n",
    "with open('palavras.txt', 'r', encoding='utf-8') as file:\n",
    "    txt = file.read().lower().split()\n",
    "    for t in txt:\n",
    "        if p in t and len(p) >= len(t)-1: # prevenir pontuações (.,!?...) sem contabilizar  pequenas palavras em outras\n",
    "            c += 1 \n",
    "print(f'A palavra \"{p}\" aparece no arquivo \"palavras.txt\" {c} vezes')"
   ]
  },
  {
   "cell_type": "markdown",
   "id": "675d3ec8",
   "metadata": {},
   "source": [
    "### Exercício 11"
   ]
  },
  {
   "cell_type": "code",
   "execution_count": 10,
   "id": "f581a2b2",
   "metadata": {},
   "outputs": [
    {
     "name": "stdout",
     "output_type": "stream",
     "text": [
      "O arquivo tem 1 linhas, 9 palavras e 64 caracteres.\n",
      "\n",
      "Contagem de letras:\n",
      "a: 9\n",
      "c: 1\n",
      "d: 2\n",
      "e: 7\n",
      "h: 1\n",
      "i: 2\n",
      "l: 4\n",
      "m: 1\n",
      "n: 4\n",
      "o: 4\n",
      "p: 1\n",
      "r: 3\n",
      "s: 6\n",
      "t: 5\n",
      "v: 2\n",
      "x: 1\n"
     ]
    }
   ],
   "source": [
    "with open('analise.txt', 'r', encoding='utf-8') as f:\n",
    "    linhas = 0\n",
    "    palavras = 0\n",
    "    caracteres = 0\n",
    "    letras = {}\n",
    "\n",
    "    for linha in f:\n",
    "        linhas += 1\n",
    "        palavras += len(linha.split())\n",
    "        caracteres += len(linha)\n",
    "\n",
    "        for c in linha.lower():\n",
    "            if c.isalpha():\n",
    "                if c in letras:\n",
    "                    letras[c] += 1\n",
    "                else:\n",
    "                    letras[c] = 1\n",
    "\n",
    "print(f'O arquivo tem {linhas} linhas, {palavras} palavras e {caracteres} caracteres.\\n')\n",
    "print('Contagem de letras:')\n",
    "for letra in sorted(letras):\n",
    "    print(f'{letra}: {letras[letra]}')\n"
   ]
  },
  {
   "cell_type": "markdown",
   "id": "6ca0ef35",
   "metadata": {},
   "source": [
    "### Exercício 12"
   ]
  },
  {
   "cell_type": "code",
   "execution_count": null,
   "id": "b852f571",
   "metadata": {},
   "outputs": [
    {
     "name": "stdout",
     "output_type": "stream",
     "text": [
      "Cadastro de telefones (digite 0 para sair)\n",
      "\n",
      "Cadastro 1\n",
      "Cadastro 2\n",
      "Cadastro 3\n",
      "2 cadastro(s) salvo(s) com sucesso no arquivo.\n"
     ]
    }
   ],
   "source": [
    "print('Cadastro de telefones (digite 0 para sair)\\n')\n",
    "\n",
    "cadastros = []\n",
    "i = 1\n",
    "\n",
    "while True:\n",
    "    nome = input('Digite o nome (ou 0 para sair): ').strip()\n",
    "    if nome == '0':\n",
    "        break\n",
    "    telefone = input('Digite o telefone: ').strip()\n",
    "    \n",
    "    if nome and telefone: \n",
    "        cadastros.append((nome, telefone))\n",
    "        i += 1\n",
    "        print(f'Cadastro {i} salvo')\n",
    "\n",
    "with open('cadastro.txt', 'a', encoding='utf-8') as f:\n",
    "    for nome, telefone in cadastros:\n",
    "        f.write(f'{nome}, {telefone}\\n')\n",
    "\n",
    "print(f'{len(cadastros)} cadastro(s) salvo(s) com sucesso no arquivo.')\n"
   ]
  },
  {
   "cell_type": "markdown",
   "id": "81fd7312",
   "metadata": {},
   "source": [
    "### Exercício 13"
   ]
  },
  {
   "cell_type": "code",
   "execution_count": 32,
   "id": "14952ea0",
   "metadata": {},
   "outputs": [],
   "source": [
    "\n",
    "from datetime import date\n",
    "data_atual = date.today()\n",
    "\n",
    "with open('nascimentos.txt', 'r', encoding='utf-8') as f, open('idades.txt', 'w+', encoding='utf-8') as ageFile:\n",
    "    for r in f:\n",
    "        nome, data = r.strip().split(',',maxsplit=1)\n",
    "        dia, mes, ano = map(int, data.split())\n",
    "\n",
    "        idade = data_atual.year - ano\n",
    "\n",
    "        if (data_atual.month, data_atual.day) < (mes, dia):\n",
    "            idade -= 1\n",
    "        \n",
    "        ageFile.write(f'{nome}, {idade} anos\\n')\n"
   ]
  },
  {
   "cell_type": "markdown",
   "id": "8a7462ae",
   "metadata": {},
   "source": [
    "### Exercício 14"
   ]
  },
  {
   "cell_type": "code",
   "execution_count": 33,
   "id": "9ed04b2e",
   "metadata": {},
   "outputs": [],
   "source": [
    "from datetime import date\n",
    "data_atual = date.today()\n",
    "\n",
    "with open('classificacao.txt', 'r', encoding='utf-8') as f, open('classificacoes.txt', 'w+', encoding='utf-8') as ageFile:\n",
    "    for r in f:\n",
    "        nome, data = r.strip().split(',', maxsplit=1)\n",
    "        ano = int(data)\n",
    "        \n",
    "        idade = data_atual.year - ano\n",
    "        \n",
    "        if idade < 18:\n",
    "            ageFile.write(f'{nome}, menor de idade\\n')\n",
    "        elif idade > 18:\n",
    "            ageFile.write(f'{nome}, maior de idade\\n')\n",
    "        else:\n",
    "            ageFile.write(f'{nome}, entrando na maior idade\\n')"
   ]
  },
  {
   "cell_type": "markdown",
   "id": "e14ff448",
   "metadata": {},
   "source": [
    "### Exercício 15"
   ]
  },
  {
   "cell_type": "code",
   "execution_count": 41,
   "id": "012cda89",
   "metadata": {},
   "outputs": [
    {
     "name": "stdout",
     "output_type": "stream",
     "text": [
      "Total da compra: R$ 16.50\n"
     ]
    }
   ],
   "source": [
    "with open('produtos.txt', 'r', encoding='utf-8') as f:\n",
    "    total = 0.0\n",
    "    for p in f:\n",
    "        produto, preco = p.strip().rsplit(',', maxsplit=1)\n",
    "        total += float(preco)\n",
    "    print(f'Total da compra: R$ {total:.2f}')"
   ]
  },
  {
   "cell_type": "markdown",
   "id": "2c789053",
   "metadata": {},
   "source": [
    "### Exercício 16"
   ]
  },
  {
   "cell_type": "code",
   "execution_count": 46,
   "id": "d1cb6b41",
   "metadata": {},
   "outputs": [
    {
     "name": "stdout",
     "output_type": "stream",
     "text": [
      "Maior nota: Maria, 9.7\n"
     ]
    }
   ],
   "source": [
    "with open('notas.txt', 'r', encoding='utf-8') as f:\n",
    "    maior = 0.0\n",
    "    nome_maior = str()\n",
    "    for r in f:\n",
    "        nome, nota = r.strip().rsplit(',', maxsplit=1)\n",
    "        if float(nota) > maior:\n",
    "            maior = float(nota)\n",
    "            nome_maior = nome\n",
    "    print(f'Maior nota: {nome_maior}, {maior}')"
   ]
  },
  {
   "cell_type": "markdown",
   "id": "51dd7625",
   "metadata": {},
   "source": [
    "### Exercício 17"
   ]
  },
  {
   "cell_type": "code",
   "execution_count": null,
   "id": "3814ed1e",
   "metadata": {},
   "outputs": [
    {
     "name": "stdout",
     "output_type": "stream",
     "text": [
      "\n",
      "1 - Entrada de produto\n",
      "2 - Retirada de produto\n",
      "3 - Relatório geral\n",
      "4 - Produtos indisponíveis\n",
      "0 - Sair\n",
      "\n",
      "Relatório de Mercadorias:\n",
      "101: Arroz - 60\n",
      "102: Feijão - 30\n",
      "103: Macarrão - 0\n",
      "\n",
      "1 - Entrada de produto\n",
      "2 - Retirada de produto\n",
      "3 - Relatório geral\n",
      "4 - Produtos indisponíveis\n",
      "0 - Sair\n",
      "Produto registrado com sucesso.\n",
      "\n",
      "1 - Entrada de produto\n",
      "2 - Retirada de produto\n",
      "3 - Relatório geral\n",
      "4 - Produtos indisponíveis\n",
      "0 - Sair\n",
      "\n",
      "Relatório de Mercadorias:\n",
      "101: Arroz - 60\n",
      "102: Feijão - 30\n",
      "103: Macarrão - 0\n",
      "104: Miojo - 10\n",
      "\n",
      "1 - Entrada de produto\n",
      "2 - Retirada de produto\n",
      "3 - Relatório geral\n",
      "4 - Produtos indisponíveis\n",
      "0 - Sair\n",
      "Saindo...\n"
     ]
    }
   ],
   "source": [
    "def carregar_mercadorias(nome_arquivo):\n",
    "    mercadorias = {}\n",
    "    with open(nome_arquivo, 'r', encoding='utf-8') as f:\n",
    "        for linha in f:\n",
    "            partes = linha.strip().split(',')\n",
    "            if len(partes) == 3:\n",
    "                codigo = int(partes[0].strip())\n",
    "                descricao = partes[1].strip()\n",
    "                quantidade = int(partes[2].strip())\n",
    "                mercadorias[codigo] = {'descricao': descricao, 'quantidade': quantidade}\n",
    "    return mercadorias\n",
    "\n",
    "def salvar_mercadorias(nome_arquivo, mercadorias):\n",
    "    with open(nome_arquivo, 'w', encoding='utf-8') as f:\n",
    "        for codigo in mercadorias:\n",
    "            produto = mercadorias[codigo]\n",
    "            f.write(f\"{codigo}, {produto['descricao']}, {produto['quantidade']}\\n\")\n",
    "\n",
    "def entrada_produto(mercadorias, nome_arquivo):\n",
    "    codigo = int(input('Código do produto: '))\n",
    "    qtd = int(input('Quantidade para adicionar: '))\n",
    "\n",
    "    if codigo in mercadorias:\n",
    "        mercadorias[codigo]['quantidade'] += qtd\n",
    "    else:\n",
    "        descricao = input('Produto novo. Digite a descrição: ')\n",
    "        mercadorias[codigo] = {'descricao': descricao, 'quantidade': qtd}\n",
    "\n",
    "    salvar_mercadorias(nome_arquivo, mercadorias)\n",
    "    print('Produto registrado com sucesso.')\n",
    "\n",
    "def retirada_produto(mercadorias, nome_arquivo):\n",
    "    codigo = int(input('Código do produto: '))\n",
    "    qtd = int(input('Quantidade para retirar: '))\n",
    "\n",
    "    if codigo in mercadorias and mercadorias[codigo]['quantidade'] >= qtd:\n",
    "        mercadorias[codigo]['quantidade'] -= qtd\n",
    "        salvar_mercadorias(nome_arquivo, mercadorias)\n",
    "        print('Retirada registrada.')\n",
    "    else:\n",
    "        print('Produto não encontrado ou quantidade insuficiente.')\n",
    "\n",
    "def mostrar_relatorio(mercadorias):\n",
    "    print('\\nRelatório de Mercadorias:')\n",
    "    for codigo in mercadorias:\n",
    "        produto = mercadorias[codigo]\n",
    "        print(f\"{codigo}: {produto['descricao']} - {produto['quantidade']}\")\n",
    "\n",
    "def mostrar_indisponiveis(mercadorias):\n",
    "    print('\\nProdutos Indisponíveis:')\n",
    "    for codigo in mercadorias:\n",
    "        if mercadorias[codigo]['quantidade'] == 0:\n",
    "            print(f\"{codigo}: {mercadorias[codigo]['descricao']}\")\n",
    "\n",
    "def menu():\n",
    "    print('\\n1 - Entrada de produto')\n",
    "    print('2 - Retirada de produto')\n",
    "    print('3 - Relatório geral')\n",
    "    print('4 - Produtos indisponíveis')\n",
    "    print('0 - Sair')\n",
    "\n",
    "def main():\n",
    "    nome_arquivo = 'mercadorias.txt'\n",
    "    mercadorias = carregar_mercadorias(nome_arquivo)\n",
    "\n",
    "    while True:\n",
    "        menu()\n",
    "        opcao = input('Opção: ')\n",
    "        if opcao == '1':\n",
    "            entrada_produto(mercadorias, nome_arquivo)\n",
    "        elif opcao == '2':\n",
    "            retirada_produto(mercadorias, nome_arquivo)\n",
    "        elif opcao == '3':\n",
    "            mostrar_relatorio(mercadorias)\n",
    "        elif opcao == '4':\n",
    "            mostrar_indisponiveis(mercadorias)\n",
    "        elif opcao == '0':\n",
    "            print('Saindo...')\n",
    "            break\n",
    "        else:\n",
    "            print('Opção inválida.')\n",
    "main()\n"
   ]
  },
  {
   "cell_type": "markdown",
   "id": "eaab899d",
   "metadata": {},
   "source": [
    "### Exercício 18"
   ]
  },
  {
   "cell_type": "code",
   "execution_count": 52,
   "id": "1e81a745",
   "metadata": {},
   "outputs": [
    {
     "name": "stdout",
     "output_type": "stream",
     "text": [
      "\n",
      "1 - Cadastrar alunos e salvar\n",
      "2 - Carregar alunos do arquivo\n",
      "0 - Sair\n"
     ]
    },
    {
     "name": "stdout",
     "output_type": "stream",
     "text": [
      "\n",
      "Alunos cadastrados:\n",
      "Matrícula: 125, Sobrenome: Martins, Ano de Nascimento: 2004\n",
      "Matrícula: 126, Sobrenome: Alves, Ano de Nascimento: 2005\n",
      "\n",
      "Memória liberada.\n",
      "\n",
      "1 - Cadastrar alunos e salvar\n",
      "2 - Carregar alunos do arquivo\n",
      "0 - Sair\n",
      "Opção inválida.\n",
      "\n",
      "1 - Cadastrar alunos e salvar\n",
      "2 - Carregar alunos do arquivo\n",
      "0 - Sair\n",
      "Opção inválida.\n",
      "\n",
      "1 - Cadastrar alunos e salvar\n",
      "2 - Carregar alunos do arquivo\n",
      "0 - Sair\n",
      "Opção inválida.\n",
      "\n",
      "1 - Cadastrar alunos e salvar\n",
      "2 - Carregar alunos do arquivo\n",
      "0 - Sair\n",
      "Opção inválida.\n",
      "\n",
      "1 - Cadastrar alunos e salvar\n",
      "2 - Carregar alunos do arquivo\n",
      "0 - Sair\n",
      "\n",
      "Aluno 1\n",
      "\n",
      "Aluno 2\n",
      "\n",
      "Alunos cadastrados:\n",
      "Matrícula: 123, Sobrenome: Souza, Ano de Nascimento: 1998\n",
      "Matrícula: 124, Sobrenome: Silva, Ano de Nascimento: 2000\n",
      "\n",
      "Memória liberada.\n",
      "\n",
      "1 - Cadastrar alunos e salvar\n",
      "2 - Carregar alunos do arquivo\n",
      "0 - Sair\n",
      "\n",
      "Alunos cadastrados:\n",
      "Matrícula: 125, Sobrenome: Martins, Ano de Nascimento: 2004\n",
      "Matrícula: 126, Sobrenome: Alves, Ano de Nascimento: 2005\n",
      "Matrícula: 123, Sobrenome: Souza, Ano de Nascimento: 1998\n",
      "Matrícula: 124, Sobrenome: Silva, Ano de Nascimento: 2000\n",
      "\n",
      "Memória liberada.\n",
      "\n",
      "1 - Cadastrar alunos e salvar\n",
      "2 - Carregar alunos do arquivo\n",
      "0 - Sair\n",
      "Saindo...\n"
     ]
    }
   ],
   "source": [
    "def salvar_em_arquivo(alunos, nome_arquivo):\n",
    "    with open(nome_arquivo, 'a', encoding='utf-8') as f:\n",
    "        for aluno in alunos:\n",
    "            f.write(f\"{aluno['matricula']}, {aluno['sobrenome']}, {aluno['ano_nasc']}\\n\")\n",
    "\n",
    "def carregar_do_arquivo(nome_arquivo):\n",
    "    alunos = []\n",
    "    with open(nome_arquivo, 'r', encoding='utf-8') as f:\n",
    "        for linha in f:\n",
    "            partes = linha.strip().split(',')\n",
    "            if len(partes) == 3:\n",
    "                matricula = int(partes[0].strip())\n",
    "                sobrenome = partes[1].strip()\n",
    "                ano_nasc = int(partes[2].strip())\n",
    "                alunos.append({'matricula': matricula, 'sobrenome': sobrenome, 'ano_nasc': ano_nasc})\n",
    "    return alunos\n",
    "\n",
    "def exibir_alunos(alunos):\n",
    "    print('\\nAlunos cadastrados:')\n",
    "    for a in alunos:\n",
    "        print(f\"Matrícula: {a['matricula']}, Sobrenome: {a['sobrenome']}, Ano de Nascimento: {a['ano_nasc']}\")\n",
    "\n",
    "def cadastrar_alunos():\n",
    "    alunos = []\n",
    "    n = int(input('Quantos alunos deseja cadastrar? '))\n",
    "    for i in range(n):\n",
    "        print(f'\\nAluno {i+1}')\n",
    "        matricula = int(input('Matrícula: '))\n",
    "        sobrenome = input('Sobrenome: ').strip()\n",
    "        ano_nasc = int(input('Ano de nascimento: '))\n",
    "        alunos.append({'matricula': matricula, 'sobrenome': sobrenome, 'ano_nasc': ano_nasc})\n",
    "    return alunos\n",
    "\n",
    "def menu():\n",
    "    print('\\n1 - Cadastrar alunos e salvar')\n",
    "    print('2 - Carregar alunos do arquivo')\n",
    "    print('0 - Sair')\n",
    "\n",
    "def main():\n",
    "    alunos = []\n",
    "    nome_arquivo = 'alunos.txt'\n",
    "\n",
    "    while True:\n",
    "        menu()\n",
    "        opcao = input('Opção: ')\n",
    "        if opcao == '1':\n",
    "            alunos = cadastrar_alunos()\n",
    "            salvar_em_arquivo(alunos, nome_arquivo)\n",
    "            exibir_alunos(alunos)\n",
    "            alunos.clear()  # Libera memória\n",
    "            print('\\nMemória liberada.')\n",
    "        elif opcao == '2':\n",
    "            alunos = carregar_do_arquivo(nome_arquivo)\n",
    "            exibir_alunos(alunos)\n",
    "            alunos.clear()\n",
    "            print('\\nMemória liberada.')\n",
    "        elif opcao == '0':\n",
    "            print('Saindo...')\n",
    "            break\n",
    "        else:\n",
    "            print('Opção inválida.')\n",
    "main()\n"
   ]
  },
  {
   "cell_type": "markdown",
   "id": "9e7e3a2f",
   "metadata": {},
   "source": [
    "### Exercício 19"
   ]
  },
  {
   "cell_type": "code",
   "execution_count": 55,
   "id": "5f40f8e7",
   "metadata": {},
   "outputs": [
    {
     "name": "stdout",
     "output_type": "stream",
     "text": [
      "\n",
      "Menu:\n",
      "1 - Definir informações da turma (zerar)\n",
      "2 - Inserir aluno e nota\n",
      "3 - Exibir alunos e médias\n",
      "4 - Exibir alunos aprovados\n",
      "5 - Exibir alunos reprovados\n",
      "6 - Salvar dados em disco\n",
      "0 - Sair\n",
      "\n",
      "Alunos e médias:\n",
      "João: 8.50\n",
      "Maria: 9.70\n",
      "Pedro: 6.20\n",
      "\n",
      "Menu:\n",
      "1 - Definir informações da turma (zerar)\n",
      "2 - Inserir aluno e nota\n",
      "3 - Exibir alunos e médias\n",
      "4 - Exibir alunos aprovados\n",
      "5 - Exibir alunos reprovados\n",
      "6 - Salvar dados em disco\n",
      "0 - Sair\n",
      "\n",
      "Alunos aprovados (nota >= 7):\n",
      "João: 8.50\n",
      "Maria: 9.70\n",
      "\n",
      "Menu:\n",
      "1 - Definir informações da turma (zerar)\n",
      "2 - Inserir aluno e nota\n",
      "3 - Exibir alunos e médias\n",
      "4 - Exibir alunos aprovados\n",
      "5 - Exibir alunos reprovados\n",
      "6 - Salvar dados em disco\n",
      "0 - Sair\n",
      "Aluno inserido com sucesso.\n",
      "\n",
      "Menu:\n",
      "1 - Definir informações da turma (zerar)\n",
      "2 - Inserir aluno e nota\n",
      "3 - Exibir alunos e médias\n",
      "4 - Exibir alunos aprovados\n",
      "5 - Exibir alunos reprovados\n",
      "6 - Salvar dados em disco\n",
      "0 - Sair\n",
      "\n",
      "Alunos e médias:\n",
      "João: 8.50\n",
      "Maria: 9.70\n",
      "Pedro: 6.20\n",
      "Leonardo: 6.90\n",
      "\n",
      "Menu:\n",
      "1 - Definir informações da turma (zerar)\n",
      "2 - Inserir aluno e nota\n",
      "3 - Exibir alunos e médias\n",
      "4 - Exibir alunos aprovados\n",
      "5 - Exibir alunos reprovados\n",
      "6 - Salvar dados em disco\n",
      "0 - Sair\n",
      "\n",
      "Alunos reprovados (nota < 7):\n",
      "Pedro: 6.20\n",
      "Leonardo: 6.90\n",
      "\n",
      "Menu:\n",
      "1 - Definir informações da turma (zerar)\n",
      "2 - Inserir aluno e nota\n",
      "3 - Exibir alunos e médias\n",
      "4 - Exibir alunos aprovados\n",
      "5 - Exibir alunos reprovados\n",
      "6 - Salvar dados em disco\n",
      "0 - Sair\n",
      "Dados salvos com sucesso.\n",
      "\n",
      "Menu:\n",
      "1 - Definir informações da turma (zerar)\n",
      "2 - Inserir aluno e nota\n",
      "3 - Exibir alunos e médias\n",
      "4 - Exibir alunos aprovados\n",
      "5 - Exibir alunos reprovados\n",
      "6 - Salvar dados em disco\n",
      "0 - Sair\n",
      "Encerrando o programa...\n"
     ]
    }
   ],
   "source": [
    "def inserir_aluno(turma):\n",
    "    nome = input('Nome do aluno: ').strip()\n",
    "    nota = float(input('Nota do aluno: '))\n",
    "    turma.append({'nome': nome, 'nota': nota})\n",
    "    print('Aluno inserido com sucesso.')\n",
    "\n",
    "def exibir_alunos(turma):\n",
    "    print('\\nAlunos e médias:')\n",
    "    for aluno in turma:\n",
    "        print(f\"{aluno['nome']}: {aluno['nota']:.2f}\")\n",
    "\n",
    "def exibir_aprovados(turma):\n",
    "    print('\\nAlunos aprovados (nota >= 7):')\n",
    "    for aluno in turma:\n",
    "        if aluno['nota'] >= 7:\n",
    "            print(f\"{aluno['nome']}: {aluno['nota']:.2f}\")\n",
    "\n",
    "def exibir_reprovados(turma):\n",
    "    print('\\nAlunos reprovados (nota < 7):')\n",
    "    for aluno in turma:\n",
    "        if aluno['nota'] < 7:\n",
    "            print(f\"{aluno['nome']}: {aluno['nota']:.2f}\")\n",
    "\n",
    "def salvar_em_disco(turma, nome_arquivo):\n",
    "    with open(nome_arquivo, 'w', encoding='utf-8') as f:\n",
    "        for aluno in turma:\n",
    "            f.write(f\"{aluno['nome']}, {aluno['nota']:.1f}\\n\")\n",
    "    print('Dados salvos com sucesso.')\n",
    "\n",
    "def carregar_turma(nome_arquivo):\n",
    "    turma = []\n",
    "    with open(nome_arquivo, 'r', encoding='utf-8') as f:\n",
    "        for linha in f:\n",
    "            partes = linha.strip().split(',')\n",
    "            if len(partes) == 2:\n",
    "                nome = partes[0].strip()\n",
    "                nota = float(partes[1].strip())\n",
    "                turma.append({'nome': nome, 'nota': nota})\n",
    "    return turma\n",
    "\n",
    "def menu():\n",
    "    print('\\nMenu:')\n",
    "    print('1 - Definir informações da turma (zerar)')\n",
    "    print('2 - Inserir aluno e nota')\n",
    "    print('3 - Exibir alunos e médias')\n",
    "    print('4 - Exibir alunos aprovados')\n",
    "    print('5 - Exibir alunos reprovados')\n",
    "    print('6 - Salvar dados em disco')\n",
    "    print('0 - Sair')\n",
    "\n",
    "def main():\n",
    "    nome_arquivo = 'notas_turma.txt'\n",
    "    turma = carregar_turma(nome_arquivo)\n",
    "\n",
    "    while True:\n",
    "        menu()\n",
    "        opcao = input('Escolha uma opção: ')\n",
    "        if opcao == '1':\n",
    "            turma.clear()\n",
    "            print('Turma zerada.')\n",
    "        elif opcao == '2':\n",
    "            inserir_aluno(turma)\n",
    "        elif opcao == '3':\n",
    "            exibir_alunos(turma)\n",
    "        elif opcao == '4':\n",
    "            exibir_aprovados(turma)\n",
    "        elif opcao == '5':\n",
    "            exibir_reprovados(turma)\n",
    "        elif opcao == '6':\n",
    "            salvar_em_disco(turma, nome_arquivo)\n",
    "        elif opcao == '0':\n",
    "            print('Encerrando o programa...')\n",
    "            break\n",
    "        else:\n",
    "            print('Opção inválida.')\n",
    "main()\n"
   ]
  }
 ],
 "metadata": {
  "kernelspec": {
   "display_name": "Python 3",
   "language": "python",
   "name": "python3"
  },
  "language_info": {
   "codemirror_mode": {
    "name": "ipython",
    "version": 3
   },
   "file_extension": ".py",
   "mimetype": "text/x-python",
   "name": "python",
   "nbconvert_exporter": "python",
   "pygments_lexer": "ipython3",
   "version": "3.12.10"
  }
 },
 "nbformat": 4,
 "nbformat_minor": 5
}
